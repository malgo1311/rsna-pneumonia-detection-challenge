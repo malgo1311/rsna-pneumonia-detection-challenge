{
 "cells": [
  {
   "cell_type": "code",
   "execution_count": 1,
   "metadata": {},
   "outputs": [],
   "source": [
    "import os\n",
    "import pandas as pd\n",
    "import pydicom as dicom\n",
    "import matplotlib.pylab as plt\n",
    "import cv2\n",
    "import numpy as np\n",
    "from glob import glob\n",
    "import time"
   ]
  },
  {
   "cell_type": "code",
   "execution_count": 2,
   "metadata": {},
   "outputs": [],
   "source": [
    "base_directory = 'rsna-pneumonia-detection-challenge'"
   ]
  },
  {
   "cell_type": "markdown",
   "metadata": {},
   "source": [
    "## Checking sample images"
   ]
  },
  {
   "cell_type": "code",
   "execution_count": null,
   "metadata": {},
   "outputs": [],
   "source": [
    "image_train_path = os.listdir(base_directory + '/stage_2_train_images')\n",
    "image_test_path = os.listdir(base_directory + '/stage_2_test_images')\n",
    "print(\"#images in train set:\", len(image_train_path))\n",
    "print(\"#images in test set:\", len(image_test_path))"
   ]
  },
  {
   "cell_type": "code",
   "execution_count": null,
   "metadata": {},
   "outputs": [],
   "source": [
    "train_csv = pd.read_csv(base_directory + '/stage_2_train_labels.csv')\n",
    "train_csv.head()"
   ]
  },
  {
   "cell_type": "code",
   "execution_count": null,
   "metadata": {},
   "outputs": [],
   "source": [
    "train_csv['Target'].value_counts()"
   ]
  },
  {
   "cell_type": "code",
   "execution_count": null,
   "metadata": {},
   "outputs": [],
   "source": [
    "image_name = '7be6b4de-afe9-43c0-a581-0f49608c8976'\n",
    "# train_csv[train_csv['patientId'==image_name]]\n",
    "train_csv[train_csv.isin([image_name]).any(axis=1)]"
   ]
  },
  {
   "cell_type": "code",
   "execution_count": null,
   "metadata": {},
   "outputs": [],
   "source": [
    "id = 12059\n",
    "image_name = train_csv['patientId'][id]+'.dcm'\n",
    "x1 = int(train_csv['x'][id])\n",
    "y1 = int(train_csv['y'][id])\n",
    "width = int(train_csv['width'][id])\n",
    "height = int(train_csv['height'][id])\n",
    "label = train_csv['Target'][id]\n",
    "print(label, image_name, x1, y1, width, height)"
   ]
  },
  {
   "cell_type": "code",
   "execution_count": null,
   "metadata": {},
   "outputs": [],
   "source": [
    "x2 = int(x1 + width)\n",
    "y2 = int(y1 + height)\n",
    "x2, y2"
   ]
  },
  {
   "cell_type": "code",
   "execution_count": null,
   "metadata": {},
   "outputs": [],
   "source": [
    "# specify your image path\n",
    "path = 'rsna-pneumonia-detection-challenge/stage_2_train_images/'\n",
    "image_path = path + image_name\n",
    "ds = dicom.dcmread(image_path)\n",
    "\n",
    "image_data = ds.pixel_array\n",
    "plt.figure(figsize=(7,7))\n",
    "plt.imshow(image_data, cmap = 'gray')\n",
    "\n",
    "# plt.show()"
   ]
  },
  {
   "cell_type": "code",
   "execution_count": null,
   "metadata": {},
   "outputs": [],
   "source": [
    "image_data.shape"
   ]
  },
  {
   "cell_type": "code",
   "execution_count": null,
   "metadata": {},
   "outputs": [],
   "source": [
    "cv2.rectangle(image_data, (x1, y1), (x2, y2), (255,0,0), 2)\n",
    "plt.figure(figsize=(7,7))\n",
    "plt.imshow(image_data, cmap = 'gray')"
   ]
  },
  {
   "cell_type": "markdown",
   "metadata": {},
   "source": [
    "# Convert to JPG and duplicating channels"
   ]
  },
  {
   "cell_type": "code",
   "execution_count": 3,
   "metadata": {},
   "outputs": [
    {
     "data": {
      "text/plain": [
       "(3000,\n",
       " 'rsna-pneumonia-detection-challenge/stage_2_test_images/2392af63-9496-4e72-b348-9276432fd797.dcm')"
      ]
     },
     "execution_count": 3,
     "metadata": {},
     "output_type": "execute_result"
    }
   ],
   "source": [
    "all_images = glob(os.path.join(base_directory, 'stage_2_test_images', '*.dcm'))\n",
    "len(all_images), all_images[0]"
   ]
  },
  {
   "cell_type": "code",
   "execution_count": 5,
   "metadata": {},
   "outputs": [],
   "source": [
    "sizes = []\n",
    "for i, image_path in enumerate(all_images):\n",
    "    \n",
    "    name = os.path.splitext(image_path.split('/')[-1])[0]\n",
    "#     print(i, name)\n",
    "    \n",
    "    ds = dicom.dcmread(image_path)\n",
    "    image_data = ds.pixel_array\n",
    "    \n",
    "    image_data_3 = np.dstack((image_data, image_data, image_data))\n",
    "    image_data_3_resized = cv2.resize(image_data_3, (512,512))\n",
    "    \n",
    "    save_path = os.path.join(base_directory, 'test_jpgs', name+'.jpg')\n",
    "    cv2.imwrite(save_path, image_data_3_resized)\n",
    "    \n",
    "    sizes.append(image_data.shape)\n",
    "    \n",
    "    c = 1000\n",
    "    if i%c == 0 and i>0:\n",
    "        print(i/c)\n",
    "        time.sleep(60)"
   ]
  },
  {
   "cell_type": "code",
   "execution_count": 6,
   "metadata": {},
   "outputs": [
    {
     "data": {
      "text/plain": [
       "(3000, [(1024, 1024)])"
      ]
     },
     "execution_count": 6,
     "metadata": {},
     "output_type": "execute_result"
    }
   ],
   "source": [
    "len(sizes), list(set(sizes))"
   ]
  },
  {
   "cell_type": "code",
   "execution_count": null,
   "metadata": {},
   "outputs": [],
   "source": []
  }
 ],
 "metadata": {
  "kernelspec": {
   "display_name": "Python 3",
   "language": "python",
   "name": "python3"
  },
  "language_info": {
   "codemirror_mode": {
    "name": "ipython",
    "version": 3
   },
   "file_extension": ".py",
   "mimetype": "text/x-python",
   "name": "python",
   "nbconvert_exporter": "python",
   "pygments_lexer": "ipython3",
   "version": "3.7.7"
  }
 },
 "nbformat": 4,
 "nbformat_minor": 2
}
