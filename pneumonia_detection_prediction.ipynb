{
 "cells": [
  {
   "cell_type": "code",
   "execution_count": null,
   "metadata": {
    "colab": {
     "base_uri": "https://localhost:8080/",
     "height": 34
    },
    "colab_type": "code",
    "executionInfo": {
     "elapsed": 1347,
     "status": "ok",
     "timestamp": 1589536051020,
     "user": {
      "displayName": "Zagma Company",
      "photoUrl": "",
      "userId": "11235884949058978812"
     },
     "user_tz": -330
    },
    "id": "kT0lOcThdl_I",
    "outputId": "88daaa1a-a1c9-4629-faa4-ef488ed808f4"
   },
   "outputs": [],
   "source": [
    "%tensorflow_version 1.x"
   ]
  },
  {
   "cell_type": "code",
   "execution_count": null,
   "metadata": {
    "colab": {
     "base_uri": "https://localhost:8080/",
     "height": 51
    },
    "colab_type": "code",
    "executionInfo": {
     "elapsed": 6838,
     "status": "ok",
     "timestamp": 1589536059829,
     "user": {
      "displayName": "Zagma Company",
      "photoUrl": "",
      "userId": "11235884949058978812"
     },
     "user_tz": -330
    },
    "id": "WOJz9rBd_com",
    "outputId": "a6cdd698-2c16-4484-cadb-a947396e5c6d"
   },
   "outputs": [],
   "source": [
    "import tensorflow as tf\n",
    "device_name = tf.test.gpu_device_name()\n",
    "if device_name != '/device:GPU:0':\n",
    "   raise SystemError('GPU device not found')\n",
    "print('Found GPU at: {}'.format(device_name))\n",
    "print(tf.__version__)"
   ]
  },
  {
   "cell_type": "code",
   "execution_count": null,
   "metadata": {
    "colab": {
     "base_uri": "https://localhost:8080/",
     "height": 122
    },
    "colab_type": "code",
    "executionInfo": {
     "elapsed": 10417,
     "status": "ok",
     "timestamp": 1589536131500,
     "user": {
      "displayName": "Zagma Company",
      "photoUrl": "",
      "userId": "11235884949058978812"
     },
     "user_tz": -330
    },
    "id": "7Sl2Kqg2dxrf",
    "outputId": "2f95a9e7-f7fc-4277-aa6f-4aa42d9b4441"
   },
   "outputs": [],
   "source": [
    "from google.colab import drive\n",
    "drive.mount('/content/gdrive')"
   ]
  },
  {
   "cell_type": "code",
   "execution_count": null,
   "metadata": {
    "colab": {
     "base_uri": "https://localhost:8080/",
     "height": 34
    },
    "colab_type": "code",
    "executionInfo": {
     "elapsed": 1390,
     "status": "ok",
     "timestamp": 1589536137241,
     "user": {
      "displayName": "Zagma Company",
      "photoUrl": "",
      "userId": "11235884949058978812"
     },
     "user_tz": -330
    },
    "id": "HFAM1qtKd7kd",
    "outputId": "02077431-bbba-440a-ccef-ab612ab246a8"
   },
   "outputs": [],
   "source": [
    "%cd '/content/gdrive/My Drive/pneumonia_detection'"
   ]
  },
  {
   "cell_type": "code",
   "execution_count": null,
   "metadata": {
    "colab": {},
    "colab_type": "code",
    "id": "rx-9qN8be2Tf"
   },
   "outputs": [],
   "source": [
    "import os\n",
    "os.environ['PYTHONPATH'] += ':/content/gdrive/My Drive/pneumonia_detection/models/research/:/content/gdrive/My Drive/pneumonia_detection/models/research/slim'"
   ]
  },
  {
   "cell_type": "code",
   "execution_count": null,
   "metadata": {
    "colab": {
     "base_uri": "https://localhost:8080/",
     "height": 1000
    },
    "colab_type": "code",
    "executionInfo": {
     "elapsed": 308831,
     "status": "ok",
     "timestamp": 1589536463435,
     "user": {
      "displayName": "Zagma Company",
      "photoUrl": "",
      "userId": "11235884949058978812"
     },
     "user_tz": -330
    },
    "id": "Vbh5QB5WfTk2",
    "outputId": "5753f14c-e89e-4577-dca4-9ec498d40e12"
   },
   "outputs": [],
   "source": [
    "# Always run the codes below for every session restart\n",
    "!python setup.py build\n",
    "!python setup.py install"
   ]
  },
  {
   "cell_type": "code",
   "execution_count": null,
   "metadata": {
    "colab": {
     "base_uri": "https://localhost:8080/",
     "height": 34
    },
    "colab_type": "code",
    "executionInfo": {
     "elapsed": 308818,
     "status": "ok",
     "timestamp": 1589536463437,
     "user": {
      "displayName": "Zagma Company",
      "photoUrl": "",
      "userId": "11235884949058978812"
     },
     "user_tz": -330
    },
    "id": "QBrWa6bhfZ84",
    "outputId": "334aa02a-c36e-4e54-e07d-ecac09649051"
   },
   "outputs": [],
   "source": [
    "# Note: if you wish to know the remaining \n",
    "# hours you have for your colab session, \n",
    "# run the copy and run the code below.\n",
    "import time, psutil\n",
    "Start = time.time() - psutil.boot_time()\n",
    "Left= 12*3600 - Start\n",
    "print('Time remaining for this session is: {} hours'.format(Left/3600))"
   ]
  },
  {
   "cell_type": "code",
   "execution_count": null,
   "metadata": {
    "colab": {
     "base_uri": "https://localhost:8080/",
     "height": 51
    },
    "colab_type": "code",
    "executionInfo": {
     "elapsed": 1435,
     "status": "ok",
     "timestamp": 1589524355961,
     "user": {
      "displayName": "Zagma Company",
      "photoUrl": "",
      "userId": "11235884949058978812"
     },
     "user_tz": -330
    },
    "id": "rF6bD3VGgQnm",
    "outputId": "c620336e-349b-4f11-af6a-57f205429bed"
   },
   "outputs": [],
   "source": [
    "%cd /content/gdrive/My Drive/pneumonia_detection/\n",
    "os.getcwd()"
   ]
  },
  {
   "cell_type": "markdown",
   "metadata": {
    "colab_type": "text",
    "id": "QRpIpOgQL8N_"
   },
   "source": [
    "# Prediction on Test Set"
   ]
  },
  {
   "cell_type": "code",
   "execution_count": null,
   "metadata": {
    "colab": {},
    "colab_type": "code",
    "id": "QRuqivlwMLQi"
   },
   "outputs": [],
   "source": [
    "from glob import glob\n",
    "import cv2\n",
    "import numpy as np\n",
    "import six.moves.urllib as urllib\n",
    "import sys\n",
    "import tarfile\n",
    "import tensorflow as tf\n",
    "import zipfile\n",
    "\n",
    "from collections import defaultdict\n",
    "from io import StringIO\n",
    "from matplotlib import pyplot as plt\n",
    "from PIL import Image\n",
    "\n",
    "print(tf.__version__)"
   ]
  },
  {
   "cell_type": "code",
   "execution_count": null,
   "metadata": {
    "colab": {},
    "colab_type": "code",
    "id": "_hQL5B8pZ-s5"
   },
   "outputs": [],
   "source": [
    "# This is needed to display the images.\n",
    "%matplotlib inline"
   ]
  },
  {
   "cell_type": "code",
   "execution_count": null,
   "metadata": {
    "colab": {},
    "colab_type": "code",
    "id": "2b5o6K2ENM5y"
   },
   "outputs": [],
   "source": [
    "os.environ['PYTHONPATH'] += ':/content/gdrive/My Drive/pneumonia_detection/models/research/object_detection⁩'"
   ]
  },
  {
   "cell_type": "code",
   "execution_count": null,
   "metadata": {
    "colab": {
     "base_uri": "https://localhost:8080/",
     "height": 54
    },
    "colab_type": "code",
    "executionInfo": {
     "elapsed": 8547,
     "status": "ok",
     "timestamp": 1589536638580,
     "user": {
      "displayName": "Zagma Company",
      "photoUrl": "",
      "userId": "11235884949058978812"
     },
     "user_tz": -330
    },
    "id": "pWeOZM-WNEbz",
    "outputId": "245cac61-d7a4-40ca-b13e-48c6e0dd13a6"
   },
   "outputs": [],
   "source": [
    "# !echo $PYTHONPATH"
   ]
  },
  {
   "cell_type": "code",
   "execution_count": null,
   "metadata": {
    "colab": {
     "base_uri": "https://localhost:8080/",
     "height": 34
    },
    "colab_type": "code",
    "executionInfo": {
     "elapsed": 1409,
     "status": "ok",
     "timestamp": 1589536661302,
     "user": {
      "displayName": "Zagma Company",
      "photoUrl": "",
      "userId": "11235884949058978812"
     },
     "user_tz": -330
    },
    "id": "JeJklDMiNwBc",
    "outputId": "81fe76cb-3d0c-4515-8830-633bdd3f7e10"
   },
   "outputs": [],
   "source": [
    "os.chdir('/content/gdrive/My Drive/pneumonia_detection/models/research/')\n",
    "os.getcwd()"
   ]
  },
  {
   "cell_type": "code",
   "execution_count": null,
   "metadata": {
    "colab": {},
    "colab_type": "code",
    "id": "zxlQrvWFM7gO"
   },
   "outputs": [],
   "source": [
    "from utils import label_map_util\n",
    "\n",
    "from utils import visualization_utils as vis_util"
   ]
  },
  {
   "cell_type": "code",
   "execution_count": null,
   "metadata": {
    "colab": {
     "base_uri": "https://localhost:8080/",
     "height": 34
    },
    "colab_type": "code",
    "executionInfo": {
     "elapsed": 3141,
     "status": "ok",
     "timestamp": 1589536671140,
     "user": {
      "displayName": "Zagma Company",
      "photoUrl": "",
      "userId": "11235884949058978812"
     },
     "user_tz": -330
    },
    "id": "zThUfWYdM_WG",
    "outputId": "3434d2c2-64fb-45ae-90df-83c745603def"
   },
   "outputs": [],
   "source": [
    "base_directory = '/content/gdrive/My Drive/pneumonia_detection/'\n",
    "ckpt_directory = 'trainings/frcnn_resnet101_kitti_2018_01_28_512/frozen_graphs'\n",
    "PATH_TO_CKPT = os.path.join(base_directory, ckpt_directory, '27954', 'frozen_inference_graph.pb')\n",
    "\n",
    "# List of the strings that is used to add correct label for each box.\n",
    "PATH_TO_LABELS = os.path.join(base_directory, 'data', 'label.pbtxt')\n",
    "\n",
    "NUM_CLASSES = 1\n",
    "os.path.exists(PATH_TO_CKPT), os.path.exists(PATH_TO_LABELS)"
   ]
  },
  {
   "cell_type": "code",
   "execution_count": null,
   "metadata": {
    "colab": {},
    "colab_type": "code",
    "id": "EpbEcdX2UbiU"
   },
   "outputs": [],
   "source": [
    "detection_graph = tf.Graph()\n",
    "with detection_graph.as_default():\n",
    "    od_graph_def = tf.GraphDef()\n",
    "    with tf.gfile.GFile(PATH_TO_CKPT, 'rb') as fid:\n",
    "        serialized_graph = fid.read()\n",
    "        od_graph_def.ParseFromString(serialized_graph)\n",
    "        tf.import_graph_def(od_graph_def, name='')"
   ]
  },
  {
   "cell_type": "code",
   "execution_count": null,
   "metadata": {
    "colab": {
     "base_uri": "https://localhost:8080/",
     "height": 34
    },
    "colab_type": "code",
    "executionInfo": {
     "elapsed": 5925,
     "status": "ok",
     "timestamp": 1589536680640,
     "user": {
      "displayName": "Zagma Company",
      "photoUrl": "",
      "userId": "11235884949058978812"
     },
     "user_tz": -330
    },
    "id": "iGtbk85FUmQ3",
    "outputId": "f2eb6d97-356f-451c-9327-9161283508ad"
   },
   "outputs": [],
   "source": [
    "label_map = label_map_util.load_labelmap(PATH_TO_LABELS)\n",
    "categories = label_map_util.convert_label_map_to_categories(label_map, max_num_classes=NUM_CLASSES, use_display_name=True)\n",
    "category_index = label_map_util.create_category_index(categories)\n",
    "print(categories)"
   ]
  },
  {
   "cell_type": "code",
   "execution_count": null,
   "metadata": {
    "colab": {},
    "colab_type": "code",
    "id": "T_K3SYXmUoYD"
   },
   "outputs": [],
   "source": [
    "def load_image_into_numpy_array(image):\n",
    "  (im_width, im_height) = image.size\n",
    "  return np.array(image.getdata()).reshape(\n",
    "      (im_height, im_width, 3)).astype(np.uint8)"
   ]
  },
  {
   "cell_type": "code",
   "execution_count": null,
   "metadata": {
    "colab": {
     "base_uri": "https://localhost:8080/",
     "height": 34
    },
    "colab_type": "code",
    "executionInfo": {
     "elapsed": 1397,
     "status": "ok",
     "timestamp": 1589541353720,
     "user": {
      "displayName": "Zagma Company",
      "photoUrl": "",
      "userId": "11235884949058978812"
     },
     "user_tz": -330
    },
    "id": "KR2cobl9Ureg",
    "outputId": "c970b4c5-33b0-40c9-d1ce-485ab015ea86"
   },
   "outputs": [],
   "source": [
    "TEST_IMAGE_PATHS_full = glob(os.path.join(base_directory, 'data', 'sample', '*.jpg'))\n",
    "\n",
    "len(TEST_IMAGE_PATHS_full)"
   ]
  },
  {
   "cell_type": "code",
   "execution_count": null,
   "metadata": {
    "colab": {
     "base_uri": "https://localhost:8080/",
     "height": 51
    },
    "colab_type": "code",
    "executionInfo": {
     "elapsed": 11415,
     "status": "ok",
     "timestamp": 1589536692787,
     "user": {
      "displayName": "Zagma Company",
      "photoUrl": "",
      "userId": "11235884949058978812"
     },
     "user_tz": -330
    },
    "id": "NbPypmBls7bD",
    "outputId": "83cbdc49-2003-45ec-aef5-0130e38daa37"
   },
   "outputs": [],
   "source": [
    "TEST_IMAGE_PATHS_filtered = []\n",
    "check = TEST_IMAGE_PATHS_full.copy()\n",
    "# print(len(list(set(check))))\n",
    "counter = 0\n",
    "\n",
    "## removing duplicate images from list\n",
    "for c in check:\n",
    "  # print(c)\n",
    "  if '(1)' in c:\n",
    "    counter += 1\n",
    "  else:\n",
    "    TEST_IMAGE_PATHS_filtered.append(c)\n",
    "print(len(TEST_IMAGE_PATHS_filtered), counter)"
   ]
  },
  {
   "cell_type": "code",
   "execution_count": null,
   "metadata": {
    "colab": {
     "base_uri": "https://localhost:8080/",
     "height": 34
    },
    "colab_type": "code",
    "executionInfo": {
     "elapsed": 10405,
     "status": "ok",
     "timestamp": 1589536692788,
     "user": {
      "displayName": "Zagma Company",
      "photoUrl": "",
      "userId": "11235884949058978812"
     },
     "user_tz": -330
    },
    "id": "COZO2scqVP1E",
    "outputId": "60a4d20d-04f3-4c92-f8ff-3a1a051347a7"
   },
   "outputs": [],
   "source": [
    "TEST_IMAGE_PATHS = TEST_IMAGE_PATHS_filtered\n",
    "# TEST_IMAGE_PATHS\n",
    "IMAGE_SIZE = (12, 8)\n",
    "len(TEST_IMAGE_PATHS)"
   ]
  },
  {
   "cell_type": "code",
   "execution_count": null,
   "metadata": {
    "colab": {},
    "colab_type": "code",
    "id": "zsGNxT81Cf8S"
   },
   "outputs": [],
   "source": [
    "# TEST_IMAGE_PATHS = os.path.join(base_directory, 'data', 'test_jpgs', '12d70948-c153-45bd-9942-e6cc07d54d07.jpg')\n",
    "# TEST_IMAGE_PATHS = TEST_IMAGE_PATHS_full[1]"
   ]
  },
  {
   "cell_type": "code",
   "execution_count": null,
   "metadata": {
    "colab": {
     "base_uri": "https://localhost:8080/",
     "height": 503
    },
    "colab_type": "code",
    "executionInfo": {
     "elapsed": 5533,
     "status": "ok",
     "timestamp": 1589541786090,
     "user": {
      "displayName": "Zagma Company",
      "photoUrl": "",
      "userId": "11235884949058978812"
     },
     "user_tz": -330
    },
    "id": "A3ump1wsVSJC",
    "outputId": "d0988bbd-d8db-4a45-c19a-69286bf222d2"
   },
   "outputs": [],
   "source": [
    "##############\n",
    "## ORIGINAL ##\n",
    "##############\n",
    "\n",
    "results = {}\n",
    "\n",
    "with detection_graph.as_default():\n",
    "    with tf.Session(graph=detection_graph) as sess:\n",
    "    # Definite input and output Tensors for detection_graph\n",
    "        image_tensor = detection_graph.get_tensor_by_name('image_tensor:0')\n",
    "        # Each box represents a part of the image where a particular object was detected.\n",
    "        detection_boxes = detection_graph.get_tensor_by_name('detection_boxes:0')\n",
    "        # Each score represent how level of confidence for each of the objects.\n",
    "        # Score is shown on the result image, together with the class label.\n",
    "        detection_scores = detection_graph.get_tensor_by_name('detection_scores:0')\n",
    "        detection_classes = detection_graph.get_tensor_by_name('detection_classes:0')\n",
    "        num_detections = detection_graph.get_tensor_by_name('num_detections:0')\n",
    "        for c, image_path in enumerate([TEST_IMAGE_PATHS]):\n",
    "            image = Image.open(image_path)\n",
    "            # the array based representation of the image will be used later in order to prepare the\n",
    "            # result image with boxes and labels on it.\n",
    "            image_np = load_image_into_numpy_array(image)\n",
    "            # Expand dimensions since the model expects images to have shape: [1, None, None, 3]\n",
    "            image_np_expanded = np.expand_dims(image_np, axis=0)\n",
    "            # Actual detection.\n",
    "            (boxes, scores, classes, num) = sess.run(\n",
    "              [detection_boxes, detection_scores, detection_classes, num_detections],\n",
    "              feed_dict={image_tensor: image_np_expanded})\n",
    "            name = os.path.splitext(image_path.split('/')[-1])[0]\n",
    "#             print('name', name)\n",
    "            # print('boxes', boxes[0])\n",
    "            # print('scores', scores)\n",
    "            # print('classes', classes)\n",
    "            # print('num', num)\n",
    "            \n",
    "            ## writing results\n",
    "            results[name] = {'boxes': boxes,\n",
    "                             'scores': scores,\n",
    "                             'classes': classes,\n",
    "                             'num': num}\n",
    "            \n",
    "            if c%500 == 0 and c>0:\n",
    "              print(c)\n",
    "            '''\n",
    "            # Visualization of the results of a detection.\n",
    "            vis_util.visualize_boxes_and_labels_on_image_array(\n",
    "              image_np,\n",
    "              np.squeeze(boxes),\n",
    "              np.squeeze(classes).astype(np.int32),\n",
    "              np.squeeze(scores),\n",
    "              category_index,\n",
    "              use_normalized_coordinates=True,\n",
    "              line_thickness=8)\n",
    "            \n",
    "            # image_name = image_path.split('/')[-1]\n",
    "            # image_cv2 = image_np.copy()\n",
    "            # image_cv2 = cv2.cvtColor(image_cv2, cv2.COLOR_BGR2RGB)\n",
    "            # save_path = os.path.join(directory, 'test_images', 'test_resizer' '1303', image_name)\n",
    "            # cv2.imwrite(save_path, image_cv2)\n",
    "            \n",
    "            plt.figure(figsize=IMAGE_SIZE)\n",
    "            plt.imshow(image_np)\n",
    "            # '''\n",
    "# 0.21302113 0.10443303 0.6885848  0.31382525\n"
   ]
  },
  {
   "cell_type": "code",
   "execution_count": null,
   "metadata": {
    "colab": {},
    "colab_type": "code",
    "id": "FLbSsydy-EHU"
   },
   "outputs": [],
   "source": [
    "import pickle\n",
    "with open(os.path.join(base_directory, 'results.pkl'), 'wb') as f:\n",
    "  pickle.dump(results, f, pickle.HIGHEST_PROTOCOL)"
   ]
  },
  {
   "cell_type": "code",
   "execution_count": null,
   "metadata": {
    "colab": {},
    "colab_type": "code",
    "id": "WLYOGV09bVZU"
   },
   "outputs": [],
   "source": [
    "# creating image list with and without predictions\n",
    "\n",
    "no_predictions = []\n",
    "predictions = []\n",
    "\n",
    "for key, values in results.items():\n",
    "    \n",
    "    num_det = int(values['num'][0])\n",
    "    \n",
    "    if num_det == 0:\n",
    "        no_predictions.append(key)\n",
    "    else:\n",
    "        predictions.append(key)\n",
    "        \n",
    "len(no_predictions), len(predictions)"
   ]
  },
  {
   "cell_type": "code",
   "execution_count": null,
   "metadata": {
    "colab": {
     "base_uri": "https://localhost:8080/",
     "height": 204
    },
    "colab_type": "code",
    "executionInfo": {
     "elapsed": 1595,
     "status": "ok",
     "timestamp": 1589540252995,
     "user": {
      "displayName": "Zagma Company",
      "photoUrl": "",
      "userId": "11235884949058978812"
     },
     "user_tz": -330
    },
    "id": "Jz4ybphR-yPA",
    "outputId": "5ee82595-58b9-4ea7-92fe-fb790282e433"
   },
   "outputs": [],
   "source": [
    "import pandas as pd\n",
    "df_no = pd.DataFrame(columns=['patientId', 'PredictionString'])\n",
    "df_no['patientId'] = no_predictions\n",
    "df_no.head()"
   ]
  },
  {
   "cell_type": "code",
   "execution_count": null,
   "metadata": {
    "colab": {},
    "colab_type": "code",
    "id": "SVxFOov6-yNM"
   },
   "outputs": [],
   "source": [
    "## checking scores of prediction and \n",
    "## appending for final inclusion\n",
    "\n",
    "ids_list = []\n",
    "pred_string_list = []\n",
    "num_det_list = []\n",
    "img_size = 1024\n",
    "\n",
    "for i,image in enumerate(predictions):\n",
    "    ids_list.append(image)\n",
    "\n",
    "    image_result = results[image]\n",
    "    num_det = int(image_result['num'][0])\n",
    "    num_det_list.append(num_det)\n",
    "    \n",
    "    pred_string_list_int = []\n",
    "    for j in range(num_det):\n",
    "        score = image_result['scores'][0][j]\n",
    "\n",
    "        if score>0.3:\n",
    "        ymin = round(image_result['boxes'][0][j][0] * img_size)\n",
    "        xmin = round(image_result['boxes'][0][j][1] * img_size)\n",
    "        ymax = round(image_result['boxes'][0][j][2] * img_size)\n",
    "        xmax = round(image_result['boxes'][0][j][3] * img_size)\n",
    "\n",
    "        width = (xmax - xmin)\n",
    "        height = (ymax - ymin)\n",
    "\n",
    "        pred_string = (str(round(score, 2)) + ' ' +\n",
    "                  str(int(xmin)) + ' ' +\n",
    "                  str(int(ymin)) + ' ' +\n",
    "                  str(int(width)) + ' ' +\n",
    "                  str(int(height)))\n",
    "        pred_string_list_int.append(pred_string)\n",
    "    pred_string_list.append(' '.join(pred_string_list_int))\n",
    "        \n",
    "len(pred_string_list), len(ids_list)"
   ]
  },
  {
   "cell_type": "code",
   "execution_count": null,
   "metadata": {
    "colab": {
     "base_uri": "https://localhost:8080/",
     "height": 204
    },
    "colab_type": "code",
    "executionInfo": {
     "elapsed": 1927,
     "status": "ok",
     "timestamp": 1589543195384,
     "user": {
      "displayName": "Zagma Company",
      "photoUrl": "",
      "userId": "11235884949058978812"
     },
     "user_tz": -330
    },
    "id": "OAu9JjnY-yIH",
    "outputId": "8667ce1c-f26c-472a-80d9-c27408ce0208"
   },
   "outputs": [],
   "source": [
    "## creating dataframe with predictions\n",
    "\n",
    "df_pred = pd.DataFrame(columns=['patientId', 'PredictionString'])\n",
    "df_pred['patientId'] = ids_list\n",
    "df_pred['PredictionString'] = pred_string_list\n",
    "df_pred.head()"
   ]
  },
  {
   "cell_type": "code",
   "execution_count": null,
   "metadata": {
    "colab": {
     "base_uri": "https://localhost:8080/",
     "height": 34
    },
    "colab_type": "code",
    "executionInfo": {
     "elapsed": 1507,
     "status": "ok",
     "timestamp": 1589543195385,
     "user": {
      "displayName": "Zagma Company",
      "photoUrl": "",
      "userId": "11235884949058978812"
     },
     "user_tz": -330
    },
    "id": "fBAUR4gY-yC8",
    "outputId": "15d0959a-90e0-49b3-edbb-32bc3bcfcc38"
   },
   "outputs": [],
   "source": [
    "## generating final csv for kaggle submission\n",
    "df = pd.concat([df_pred, df_no])\n",
    "df.shape"
   ]
  },
  {
   "cell_type": "code",
   "execution_count": null,
   "metadata": {
    "colab": {
     "base_uri": "https://localhost:8080/",
     "height": 34
    },
    "colab_type": "code",
    "executionInfo": {
     "elapsed": 1418,
     "status": "ok",
     "timestamp": 1589542328187,
     "user": {
      "displayName": "Zagma Company",
      "photoUrl": "",
      "userId": "11235884949058978812"
     },
     "user_tz": -330
    },
    "id": "rQUPc2bN-x5o",
    "outputId": "782eb1c6-0429-495a-864d-a56e32e32d5b"
   },
   "outputs": [],
   "source": [
    "os.getcwd()"
   ]
  },
  {
   "cell_type": "code",
   "execution_count": null,
   "metadata": {
    "colab": {},
    "colab_type": "code",
    "id": "YxYP97pWcJ9Y"
   },
   "outputs": [],
   "source": [
    "df.to_csv('/content/gdrive/My Drive/pneumonia_detection/output_score30%_v2.csv', sep=',', index=False)"
   ]
  },
  {
   "cell_type": "code",
   "execution_count": null,
   "metadata": {
    "colab": {},
    "colab_type": "code",
    "id": "PUgEPp4QG4PV"
   },
   "outputs": [],
   "source": []
  }
 ],
 "metadata": {
  "accelerator": "GPU",
  "colab": {
   "authorship_tag": "ABX9TyNuzLq54nWehLHak4+zrDrK",
   "collapsed_sections": [],
   "name": "pneumonia_detection_eval.ipynb",
   "provenance": []
  },
  "kernelspec": {
   "display_name": "Python 3",
   "language": "python",
   "name": "python3"
  },
  "language_info": {
   "codemirror_mode": {
    "name": "ipython",
    "version": 3
   },
   "file_extension": ".py",
   "mimetype": "text/x-python",
   "name": "python",
   "nbconvert_exporter": "python",
   "pygments_lexer": "ipython3",
   "version": "3.7.7"
  }
 },
 "nbformat": 4,
 "nbformat_minor": 1
}
